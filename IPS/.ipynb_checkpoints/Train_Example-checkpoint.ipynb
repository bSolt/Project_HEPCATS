{
 "cells": [
  {
   "cell_type": "markdown",
   "metadata": {
    "colab_type": "text",
    "id": "cIVAMkrqSIAc"
   },
   "source": [
    "# Pre-Trained Neural Network Transfer Learning Example\n",
    "\n",
    "Using the standard image repository, ImageNet, two types of images are to be downloaded and then used to train an inception architecture nerual network to distinguish between them.\n",
    "\n",
    "The two categories being used for the example are:\n",
    "- Weather Satellites, `wnid=n04567593`\n",
    "- Inter-Planetary Space, `wnid=n08500819`"
   ]
  },
  {
   "cell_type": "markdown",
   "metadata": {
    "colab_type": "text",
    "id": "DlZ7pw-zSIAf"
   },
   "source": [
    "Firstly, the proper frameworks and libraries must be installed. The following must be run in python or the anaconda prompt"
   ]
  },
  {
   "cell_type": "code",
   "execution_count": 1,
   "metadata": {
    "colab": {
     "base_uri": "https://localhost:8080/",
     "height": 598
    },
    "colab_type": "code",
    "id": "4Vy4iBm5SQ3J",
    "outputId": "8868a656-9f8a-4999-d0ee-cdfc10977f71"
   },
   "outputs": [
    {
     "name": "stdout",
     "output_type": "stream",
     "text": [
      "/bin/sh: 1: pip: not found\r\n"
     ]
    }
   ],
   "source": [
    "!pip install imagenetscraper"
   ]
  },
  {
   "cell_type": "code",
   "execution_count": 2,
   "metadata": {
    "colab": {
     "base_uri": "https://localhost:8080/",
     "height": 11373
    },
    "colab_type": "code",
    "id": "9Bdw2OY9SgNw",
    "outputId": "e181f0eb-26c6-4cf0-f1df-b082d5e7cad2"
   },
   "outputs": [
    {
     "name": "stdout",
     "output_type": "stream",
     "text": [
      "\n",
      "\n",
      "\n"
     ]
    }
   ],
   "source": [
    "import os\n",
    "\n",
    "# this is the satellites sysnet\n",
    "sat_id = \"n04137444\"\n",
    "# two sysnets are used for space to get more training data\n",
    "space_id = [\"n08500989\",\"n08500819\"]\n",
    "\n",
    "# store the images here\n",
    "sat_dir = \"./sats/\"\n",
    "space_dir = \"./space/\"\n",
    "\n",
    "# do the downloading\n",
    "print(os.popen(\"imagenetscraper \" + sat_id +' '+ sat_dir).read())\n",
    "for s in space_id:\n",
    "  print(os.popen(\"imagenetscraper \" + s +' '+ space_dir).read())"
   ]
  },
  {
   "cell_type": "code",
   "execution_count": 11,
   "metadata": {
    "colab": {
     "base_uri": "https://localhost:8080/",
     "height": 34
    },
    "colab_type": "code",
    "id": "hYNHEQLlSIAq",
    "outputId": "0748674a-2dd6-4698-e004-82dbe4473dbb"
   },
   "outputs": [
    {
     "ename": "ModuleNotFoundError",
     "evalue": "No module named 'matplotlib'",
     "output_type": "error",
     "traceback": [
      "\u001b[0;31m---------------------------------------------------------------------------\u001b[0m",
      "\u001b[0;31mModuleNotFoundError\u001b[0m                       Traceback (most recent call last)",
      "\u001b[0;32m<ipython-input-11-85abf71bee72>\u001b[0m in \u001b[0;36m<module>\u001b[0;34m\u001b[0m\n\u001b[1;32m      1\u001b[0m \u001b[0;32mimport\u001b[0m \u001b[0mnumpy\u001b[0m \u001b[0;32mas\u001b[0m \u001b[0mnp\u001b[0m\u001b[0;34m\u001b[0m\u001b[0;34m\u001b[0m\u001b[0m\n\u001b[0;32m----> 2\u001b[0;31m \u001b[0;32mimport\u001b[0m \u001b[0mmatplotlib\u001b[0m\u001b[0;34m.\u001b[0m\u001b[0mpyplot\u001b[0m \u001b[0;32mas\u001b[0m \u001b[0mplt\u001b[0m\u001b[0;34m\u001b[0m\u001b[0;34m\u001b[0m\u001b[0m\n\u001b[0m\u001b[1;32m      3\u001b[0m \u001b[0;32mimport\u001b[0m \u001b[0mmatplotlib\u001b[0m\u001b[0;34m.\u001b[0m\u001b[0mimage\u001b[0m \u001b[0;32mas\u001b[0m \u001b[0mmpimg\u001b[0m\u001b[0;34m\u001b[0m\u001b[0;34m\u001b[0m\u001b[0m\n\u001b[1;32m      4\u001b[0m \u001b[0mget_ipython\u001b[0m\u001b[0;34m(\u001b[0m\u001b[0;34m)\u001b[0m\u001b[0;34m.\u001b[0m\u001b[0mrun_line_magic\u001b[0m\u001b[0;34m(\u001b[0m\u001b[0;34m'matplotlib'\u001b[0m\u001b[0;34m,\u001b[0m \u001b[0;34m'inline'\u001b[0m\u001b[0;34m)\u001b[0m\u001b[0;34m\u001b[0m\u001b[0;34m\u001b[0m\u001b[0m\n\u001b[1;32m      5\u001b[0m \u001b[0;32mfrom\u001b[0m \u001b[0mPIL\u001b[0m \u001b[0;32mimport\u001b[0m \u001b[0mImage\u001b[0m\u001b[0;34m\u001b[0m\u001b[0;34m\u001b[0m\u001b[0m\n",
      "\u001b[0;31mModuleNotFoundError\u001b[0m: No module named 'matplotlib'"
     ]
    }
   ],
   "source": [
    "import numpy as np\n",
    "import matplotlib.pyplot as plt\n",
    "import matplotlib.image as mpimg\n",
    "%matplotlib inline\n",
    "from PIL import Image\n",
    "# from __future__ import print_function\n",
    "import keras\n",
    "from keras.utils import to_categorical\n",
    "import os\n",
    "from keras.preprocessing.image import ImageDataGenerator, load_img"
   ]
  },
  {
   "cell_type": "code",
   "execution_count": 10,
   "metadata": {
    "colab": {
     "base_uri": "https://localhost:8080/",
     "height": 293
    },
    "colab_type": "code",
    "id": "tefGNj_iWySp",
    "outputId": "e1f2f955-8a0a-42be-c6fa-49bfb9afeeac"
   },
   "outputs": [
    {
     "ename": "FileNotFoundError",
     "evalue": "[Errno 2] No such file or directory: './sats/'",
     "output_type": "error",
     "traceback": [
      "\u001b[0;31m---------------------------------------------------------------------------\u001b[0m",
      "\u001b[0;31mFileNotFoundError\u001b[0m                         Traceback (most recent call last)",
      "\u001b[0;32m<ipython-input-10-7b0b87e3aed8>\u001b[0m in \u001b[0;36m<module>\u001b[0;34m\u001b[0m\n\u001b[0;32m----> 1\u001b[0;31m \u001b[0msat_l\u001b[0m \u001b[0;34m=\u001b[0m \u001b[0mos\u001b[0m\u001b[0;34m.\u001b[0m\u001b[0mlistdir\u001b[0m\u001b[0;34m(\u001b[0m\u001b[0msat_dir\u001b[0m\u001b[0;34m)\u001b[0m\u001b[0;34m\u001b[0m\u001b[0;34m\u001b[0m\u001b[0m\n\u001b[0m\u001b[1;32m      2\u001b[0m \u001b[0mspace_l\u001b[0m \u001b[0;34m=\u001b[0m \u001b[0mos\u001b[0m\u001b[0;34m.\u001b[0m\u001b[0mlistdir\u001b[0m\u001b[0;34m(\u001b[0m\u001b[0mspace_dir\u001b[0m\u001b[0;34m)\u001b[0m\u001b[0;34m\u001b[0m\u001b[0;34m\u001b[0m\u001b[0m\n\u001b[1;32m      3\u001b[0m \u001b[0;34m\u001b[0m\u001b[0m\n\u001b[1;32m      4\u001b[0m \u001b[0mn_sat\u001b[0m \u001b[0;34m=\u001b[0m \u001b[0mlen\u001b[0m\u001b[0;34m(\u001b[0m\u001b[0msat_l\u001b[0m\u001b[0;34m)\u001b[0m\u001b[0;34m\u001b[0m\u001b[0;34m\u001b[0m\u001b[0m\n\u001b[1;32m      5\u001b[0m \u001b[0mn_space\u001b[0m \u001b[0;34m=\u001b[0m \u001b[0mlen\u001b[0m\u001b[0;34m(\u001b[0m\u001b[0mspace_l\u001b[0m\u001b[0;34m)\u001b[0m\u001b[0;34m\u001b[0m\u001b[0;34m\u001b[0m\u001b[0m\n",
      "\u001b[0;31mFileNotFoundError\u001b[0m: [Errno 2] No such file or directory: './sats/'"
     ]
    }
   ],
   "source": [
    "sat_l = os.listdir(sat_dir)\n",
    "space_l = os.listdir(space_dir)\n",
    "\n",
    "n_sat = len(sat_l)\n",
    "n_space = len(space_l)\n",
    "print(\"Successfully downloaded {} satellite picutres and {} no satellite pictures\"\n",
    "     .format(n_sat,n_space))\n",
    "\n",
    "# Randomizing\n",
    "np.random.seed(4)\n",
    "# Choose images to be displayed below\n",
    "i_sat =   np.random.randint(0,n_sat-1)\n",
    "i_space = np.random.randint(0,n_space-1)\n",
    "\n",
    "# Define the number of images to use\n",
    "N_im = 600\n",
    "# Define ratio of images for training\n",
    "rTrain = 0.75\n",
    "rTest = 1-rTrain\n",
    "\n",
    "nTrain = round(N_im*rTrain)\n",
    "nTest  = round(N_im*rTest)\n",
    "\n",
    "ind_sat = np.random.permutation(n_sat)[0:N_im]\n",
    "ind_space = np.random.permutation(n_space)[0:N_im]\n",
    "\n",
    "train_list = ([sat_dir + f for f in np.array(sat_l)[ind_sat[:nTrain]]] +\n",
    "              [space_dir + f for f in np.array(space_l)[ind_space[:nTrain]]])\n",
    "\n",
    "test_list  = ([sat_dir + f for f in np.array(sat_l)[ind_sat[nTrain:]]] +\n",
    "              [space_dir + f for f in np.array(space_l)[ind_space[nTrain:]]])\n",
    "\n",
    "\n",
    "      \n",
    "fig,ax = plt.subplots(1,2,figsize=(12,6))\n",
    "plt.subplot(1,2,1)\n",
    "plt.grid('off')\n",
    "plt.title(\"Example Satellite Image\")\n",
    "im = Image.open(sat_dir+sat_l[i_sat])\n",
    "plt.imshow(im);\n",
    "\n",
    "plt.subplot(1,2,2)\n",
    "plt.grid('off')\n",
    "plt.title(\"Example No Satellite Image\")\n",
    "im = Image.open(space_dir+space_l[i_space])\n",
    "plt.imshow(im);\n",
    "\n",
    "\n"
   ]
  },
  {
   "cell_type": "code",
   "execution_count": null,
   "metadata": {
    "colab": {
     "base_uri": "https://localhost:8080/",
     "height": 51
    },
    "colab_type": "code",
    "id": "7gsWIZfkSIA5",
    "outputId": "7d220b63-3802-42c4-f1a5-e6f4a09e3841"
   },
   "outputs": [],
   "source": [
    "from keras.applications.inception_resnet_v2 import InceptionResNetV2\n",
    "\n",
    "# Note that the input_shape chosen here is to help with future datasets\n",
    "inc_conv = InceptionResNetV2(weights='imagenet',\n",
    "                  include_top=False,\n",
    "                  input_shape=(256, 256, 3))"
   ]
  },
  {
   "cell_type": "code",
   "execution_count": null,
   "metadata": {
    "colab": {
     "base_uri": "https://localhost:8080/",
     "height": 28322
    },
    "colab_type": "code",
    "id": "NzRoxlQYdNv9",
    "outputId": "a5a8d4ea-d272-4935-bfbb-a9c32b0018ac"
   },
   "outputs": [],
   "source": [
    "inc_conv.summary()"
   ]
  },
  {
   "cell_type": "markdown",
   "metadata": {
    "colab_type": "text",
    "id": "550o3wbJg2av"
   },
   "source": [
    "This is the part where we extract the features and use incpetion resnet"
   ]
  },
  {
   "cell_type": "code",
   "execution_count": null,
   "metadata": {
    "colab": {},
    "colab_type": "code",
    "id": "xDHfBgNC0Z2i"
   },
   "outputs": [],
   "source": [
    "datagen = ImageDataGenerator(rescale=1./255)\n",
    "batch_size = 20"
   ]
  },
  {
   "cell_type": "code",
   "execution_count": null,
   "metadata": {
    "colab": {
     "base_uri": "https://localhost:8080/",
     "height": 799
    },
    "colab_type": "code",
    "id": "hECI7C4CgTP1",
    "outputId": "2e638d2e-2858-41fb-de77-e66b63aa0a84"
   },
   "outputs": [],
   "source": [
    "x_train = np.array([np.array(Image.open(fname).resize((256,256)).convert(\"RGB\")) for fname in train_list])\n",
    "y_train = np.concatenate((np.ones(nTrain), np.zeros(nTrain)))\n",
    "\n",
    "print(x_train.shape)\n",
    "\n",
    "train_generator = datagen.flow(x_train, y_train, batch_size=batch_size)\n",
    "\n",
    "train_features = np.zeros(shape=(2*nTrain, 6, 6, 1536))\n",
    "train_labels = np.zeros(shape=(2*nTrain))\n",
    "\n",
    "i = 0\n",
    "for inputs_batch, labels_batch in train_generator:\n",
    "    print(\"Working on training batch {}\".format(i))\n",
    "    features_batch = inc_conv.predict(inputs_batch)\n",
    "    if ((i+1) * batch_size < 2*nTrain):\n",
    "      train_features[i * batch_size : (i + 1) * batch_size] = features_batch\n",
    "      train_labels[i * batch_size : (i + 1) * batch_size] = labels_batch\n",
    "    else:\n",
    "      train_features[i * batch_size : ] = features_batch[0:2*nTrain-i*batch_size]\n",
    "      train_labels[i * batch_size : ] = labels_batch[0:2*nTrain-i*batch_size]\n",
    "    i += 1\n",
    "    if i * batch_size >= 2*nTrain:\n",
    "        break\n",
    "        \n",
    "train_features = np.reshape(train_features, (2*nTrain, 6 * 6 * 1536))"
   ]
  },
  {
   "cell_type": "code",
   "execution_count": null,
   "metadata": {
    "colab": {
     "base_uri": "https://localhost:8080/",
     "height": 289
    },
    "colab_type": "code",
    "id": "SAs3Y2c9u4O0",
    "outputId": "e4be325d-d5cd-4bbc-94ef-48c1fa6f898a"
   },
   "outputs": [],
   "source": [
    "x_test = np.array([np.array(Image.open(fname).resize((256,256)).convert(\"RGB\")) for fname in test_list])\n",
    "y_test = np.concatenate((np.ones(nTest), np.zeros(nTest)))\n",
    "\n",
    "print(x_test.shape)\n",
    "\n",
    "test_generator = datagen.flow(x_test, y_test, batch_size=batch_size)\n",
    "\n",
    "test_features = np.zeros(shape=(2*nTest, 6, 6, 1536))\n",
    "test_labels = np.zeros(shape=(2*nTest))\n",
    "\n",
    "i = 0\n",
    "for inputs_batch, labels_batch in test_generator:\n",
    "    print(\"Working on test batch {}\".format(i))\n",
    "    features_batch = inc_conv.predict(inputs_batch)\n",
    "    if((i+1)*batch_size < 2*nTest):\n",
    "      test_features[i * batch_size : (i + 1) * batch_size] = features_batch\n",
    "      test_labels[i * batch_size : (i + 1) * batch_size] = labels_batch\n",
    "    else:\n",
    "      test_features[i * batch_size : ] = features_batch[0:2*nTest-i*batch_size]\n",
    "      test_labels[i * batch_size : ] = labels_batch[0:2*nTest-i*batch_size]\n",
    "    i += 1\n",
    "    if i * batch_size >= 2*nTest:\n",
    "        break\n",
    "        \n",
    "test_features = np.reshape(test_features, (2*nTest, 6 * 6 * 1536))"
   ]
  },
  {
   "cell_type": "markdown",
   "metadata": {
    "colab_type": "text",
    "id": "BF_6IERJtYRD"
   },
   "source": [
    "Next we must implement our own classifier network to be trained on the data."
   ]
  },
  {
   "cell_type": "code",
   "execution_count": null,
   "metadata": {
    "colab": {
     "base_uri": "https://localhost:8080/",
     "height": 714
    },
    "colab_type": "code",
    "id": "zJoemyobtXHz",
    "outputId": "b536cbf7-dbc7-42de-8942-9e79c6ab4af9"
   },
   "outputs": [],
   "source": [
    "from keras import models\n",
    "from keras import layers\n",
    "from keras import optimizers\n",
    " \n",
    "model = models.Sequential()\n",
    "model.add(layers.Dense(256, activation='relu', input_dim=6 * 6 * 1536))\n",
    "model.add(layers.Dropout(0.5))\n",
    "model.add(layers.Dense(1, activation='sigmoid'))\n",
    "\n",
    "model.compile(optimizer=optimizers.RMSprop(lr=2e-4),\n",
    "              loss='mean_squared_error',\n",
    "              metrics=['acc'])\n",
    " \n",
    "history = model.fit(train_features,\n",
    "                    train_labels,\n",
    "                    epochs=20,\n",
    "                    batch_size=batch_size,\n",
    "                    validation_data=(test_features,test_labels))"
   ]
  },
  {
   "cell_type": "code",
   "execution_count": null,
   "metadata": {
    "colab": {
     "base_uri": "https://localhost:8080/",
     "height": 34
    },
    "colab_type": "code",
    "id": "FMo0EyaKunQU",
    "outputId": "4129c368-2ab3-4b14-9265-b3e84e218831"
   },
   "outputs": [],
   "source": [
    "# fnames = test_generator.filenames\n",
    " \n",
    "ground_truth = y_test\n",
    "\n",
    " \n",
    "# Getting the mapping from class index to class label\n",
    "# idx2label = dict((v,k) for k,v in label2index.iteritems())\n",
    " \n",
    "predictions = model.predict(test_features)\n",
    "# prob = model.predict(test_features)\n",
    " \n",
    "errors = np.where(predictions != ground_truth)[0]\n",
    "print(\"No of errors = {}/{}\".format(len(errors),nTest))"
   ]
  },
  {
   "cell_type": "code",
   "execution_count": null,
   "metadata": {
    "colab": {
     "base_uri": "https://localhost:8080/",
     "height": 34
    },
    "colab_type": "code",
    "id": "cOyrEdK6692G",
    "outputId": "caadc20c-c88e-4884-bb28-e39f73d8859a"
   },
   "outputs": [],
   "source": [
    "print(predictions.shape,ground_truth.shape)"
   ]
  },
  {
   "cell_type": "code",
   "execution_count": null,
   "metadata": {
    "colab": {
     "base_uri": "https://localhost:8080/",
     "height": 232
    },
    "colab_type": "code",
    "id": "iTzyUIij5ZRy",
    "outputId": "600abce9-e302-4528-be4c-195186eb22d2"
   },
   "outputs": [],
   "source": [
    "for i in range(len(errors)):\n",
    "#     pred_class = np.argmax(prob[errors[i]])\n",
    "#     pred_label = idx2label[pred_class]\n",
    "     \n",
    "    print('Original label:{}, confidence : {:.3f}'.format(\n",
    "        y_test[errors[i]],\n",
    "        predictions[errors[i]]))\n",
    "     \n",
    "    original = load_img(test_list[errors[i]])\n",
    "    plt.imshow(original)\n",
    "    plt.show()"
   ]
  }
 ],
 "metadata": {
  "accelerator": "GPU",
  "colab": {
   "name": "Train_Example.ipynb",
   "provenance": [],
   "version": "0.3.2"
  },
  "kernelspec": {
   "display_name": "Python 3",
   "language": "python",
   "name": "python3"
  },
  "language_info": {
   "codemirror_mode": {
    "name": "ipython",
    "version": 3
   },
   "file_extension": ".py",
   "mimetype": "text/x-python",
   "name": "python",
   "nbconvert_exporter": "python",
   "pygments_lexer": "ipython3",
   "version": "3.6.7rc1"
  }
 },
 "nbformat": 4,
 "nbformat_minor": 1
}
